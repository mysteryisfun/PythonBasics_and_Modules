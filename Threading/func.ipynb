{
 "cells": [
  {
   "cell_type": "code",
   "execution_count": 12,
   "id": "6cf1668d",
   "metadata": {},
   "outputs": [
    {
     "name": "stdout",
     "output_type": "stream",
     "text": [
      "Iteration 0\n",
      "Iteration 1\n",
      "Iteration 2\n",
      "Iteration 3\n",
      "Iteration 4\n",
      "Iteration 5\n",
      "Iteration 6\n",
      "Iteration 7\n",
      "Iteration 8\n",
      "Iteration 9\n",
      "False\n"
     ]
    }
   ],
   "source": [
    "from threading import Thread\n",
    "def loop():\n",
    "    for i in range(10):\n",
    "        print(f\"Iteration {i}\")\n",
    "t1= Thread(target=loop )\n",
    "\n",
    "t2= Thread(target=lambda: print(t1.is_alive()))\n",
    "\n",
    "t1.start()\n",
    "t2.start()  "
   ]
  },
  {
   "cell_type": "code",
   "execution_count": 13,
   "id": "35024178",
   "metadata": {},
   "outputs": [],
   "source": [
    "t1.join()  # Wait for t1 to finish before exiting the script\n",
    "t2.join()  # Wait for t2 to finish before exiting the script"
   ]
  },
  {
   "cell_type": "code",
   "execution_count": null,
   "id": "c40759c7",
   "metadata": {},
   "outputs": [],
   "source": []
  }
 ],
 "metadata": {
  "kernelspec": {
   "display_name": "base",
   "language": "python",
   "name": "python3"
  },
  "language_info": {
   "codemirror_mode": {
    "name": "ipython",
    "version": 3
   },
   "file_extension": ".py",
   "mimetype": "text/x-python",
   "name": "python",
   "nbconvert_exporter": "python",
   "pygments_lexer": "ipython3",
   "version": "3.12.3"
  }
 },
 "nbformat": 4,
 "nbformat_minor": 5
}

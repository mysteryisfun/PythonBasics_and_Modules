{
 "cells": [
  {
   "cell_type": "markdown",
   "id": "e7b778eb",
   "metadata": {},
   "source": [
    "### PromptsTemplate in langchain <br> Templates with Placeholders"
   ]
  },
  {
   "cell_type": "code",
   "execution_count": 1,
   "id": "6d6663ee",
   "metadata": {},
   "outputs": [
    {
     "name": "stdout",
     "output_type": "stream",
     "text": [
      "prompt type: <class 'langchain_core.prompts.prompt.PromptTemplate'>\n",
      "inptut variables: ['age', 'name']\n",
      "hey my name is ujwal and I am 22 years old\n"
     ]
    }
   ],
   "source": [
    "from langchain_core.prompts import PromptTemplate\n",
    "\n",
    "tempalte=\"hey my name is {name} and I am {age} years old\"\n",
    "prompt=PromptTemplate.from_template(tempalte)\n",
    "\n",
    "print(\"prompt type:\", type(prompt))\n",
    "print(\"inptut variables:\", prompt.input_variables)\n",
    "print(prompt.format(name=\"ujwal\", age=22))"
   ]
  },
  {
   "cell_type": "markdown",
   "id": "5233add2",
   "metadata": {},
   "source": [
    "### Partial Prompts to define some Default var"
   ]
  },
  {
   "cell_type": "code",
   "execution_count": 2,
   "id": "eb8e9be5",
   "metadata": {},
   "outputs": [
    {
     "name": "stdout",
     "output_type": "stream",
     "text": [
      "hey my name is ujwal and I am 22 years old and I am a developer\n"
     ]
    }
   ],
   "source": [
    "tempalte=\"hey my name is {name} and I am {age} years old and I am a {profession}\"\n",
    "prompt=PromptTemplate.from_template(tempalte)\n",
    "\n",
    "prompt_with_default=prompt.partial(name=\"ujwal\", age=22)\n",
    "\n",
    "#now provide only the profession\n",
    "print(prompt_with_default.format(profession=\"developer\"))"
   ]
  },
  {
   "cell_type": "markdown",
   "id": "19791ec1",
   "metadata": {},
   "source": [
    "### Template with the multiple messages of CHAT models"
   ]
  },
  {
   "cell_type": "code",
   "execution_count": 3,
   "id": "ed45cb80",
   "metadata": {},
   "outputs": [
    {
     "name": "stdout",
     "output_type": "stream",
     "text": [
      "System: You are a helpful assistant\n",
      "Human: What is LangChain?\n"
     ]
    }
   ],
   "source": [
    "from langchain_core.prompts import ChatPromptTemplate, SystemMessagePromptTemplate, HumanMessagePromptTemplate, AIMessagePromptTemplate\n",
    "\n",
    "chat_tempalte = ChatPromptTemplate.from_messages([\n",
    "    SystemMessagePromptTemplate.from_template(\"You are a helpful assistant\"),\n",
    "    HumanMessagePromptTemplate.from_template(\"{question}\"),\n",
    "])\n",
    "chat=chat_tempalte.partial(question=\"What is LangChain?\")\n",
    "print(chat.format())"
   ]
  },
  {
   "cell_type": "markdown",
   "id": "c77c7c7f",
   "metadata": {},
   "source": [
    "### Few Shot prompting"
   ]
  },
  {
   "cell_type": "code",
   "execution_count": 4,
   "id": "9803bae3",
   "metadata": {},
   "outputs": [
    {
     "name": "stdout",
     "output_type": "stream",
     "text": [
      "System: You are a helpful assistant\n",
      "Human: What is LangChain?\n",
      "AI: LangChain is a framework for building applications with LLMs.\n",
      "Human: What is LangGraph?\n",
      "AI: LangGraph is a framework\n",
      "Human: What is LangGraph?\n"
     ]
    }
   ],
   "source": [
    "from langchain_core.prompts import FewShotChatMessagePromptTemplate\n",
    "\n",
    "exmaple=[\n",
    "    {\"input\": \"What is LangChain?\", \"output\": \"LangChain is a framework for building applications with LLMs.\"},\n",
    "    {\"input\": \"What is LangGraph?\", \"output\": \"LangGraph is a framework\"}\n",
    "]\n",
    "\n",
    "example_prompt=ChatPromptTemplate.from_messages([\n",
    "    HumanMessagePromptTemplate.from_template(\"{input}\"),\n",
    "    AIMessagePromptTemplate.from_template(\"{output}\")\n",
    "    ])\n",
    "few_shot_prompt=FewShotChatMessagePromptTemplate(\n",
    "    example_prompt=example_prompt,\n",
    "    examples=exmaple,\n",
    ")\n",
    "final_prompt=ChatPromptTemplate.from_messages([\n",
    "    SystemMessagePromptTemplate.from_template(\"You are a helpful assistant\"),\n",
    "    few_shot_prompt,\n",
    "    HumanMessagePromptTemplate.from_template(\"{input}\")\n",
    "])\n",
    "print(final_prompt.format(input=\"What is LangGraph?\"))"
   ]
  },
  {
   "cell_type": "code",
   "execution_count": null,
   "id": "42232c8b",
   "metadata": {},
   "outputs": [],
   "source": []
  }
 ],
 "metadata": {
  "kernelspec": {
   "display_name": "venv",
   "language": "python",
   "name": "python3"
  },
  "language_info": {
   "codemirror_mode": {
    "name": "ipython",
    "version": 3
   },
   "file_extension": ".py",
   "mimetype": "text/x-python",
   "name": "python",
   "nbconvert_exporter": "python",
   "pygments_lexer": "ipython3",
   "version": "3.12.3"
  }
 },
 "nbformat": 4,
 "nbformat_minor": 5
}

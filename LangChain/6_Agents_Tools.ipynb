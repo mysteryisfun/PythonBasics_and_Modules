{
 "cells": [
  {
   "cell_type": "markdown",
   "id": "4133bb3c",
   "metadata": {},
   "source": [
    "# Agents \n",
    "An Agent in LangChain is a system that uses a Large Language Model as its \"brain\"<br><br>The core mechanism by which an agent operates is a continuous loop often referred to as the \"Observation, Thought, Action\" loop<br><br> Available tools via langchain_community, custom tools via @tool decorator"
   ]
  },
  {
   "cell_type": "code",
   "execution_count": 1,
   "id": "3e474a22",
   "metadata": {},
   "outputs": [
    {
     "name": "stdout",
     "output_type": "stream",
     "text": [
      "add_numbers\n",
      "Adds two numbers together.\n"
     ]
    }
   ],
   "source": [
    "from langchain_core.tools import tool\n",
    "\n",
    "@tool\n",
    "def add_numbers(a: int, b: int) -> int:\n",
    "    \"\"\"Adds two numbers together.\"\"\"\n",
    "    return a + b\n",
    "print(add_numbers.name)\n",
    "print(add_numbers.description)"
   ]
  },
  {
   "cell_type": "code",
   "execution_count": 2,
   "id": "1d7ccd21",
   "metadata": {},
   "outputs": [
    {
     "data": {
      "text/plain": [
       "\"It's cloudy with a chance of rain, 15°C.\""
      ]
     },
     "execution_count": 2,
     "metadata": {},
     "output_type": "execute_result"
    }
   ],
   "source": [
    "@tool\n",
    "def get_current_weather(location: str) -> str:\n",
    "    \"\"\"Get the current weather in a given location.\n",
    "    The location should be a city name, e.g., 'London' or 'New York'.\n",
    "    Returns a string describing the weather.\n",
    "    \"\"\"\n",
    "    if \"london\" in location.lower():\n",
    "        return \"It's cloudy with a chance of rain, 15°C.\"\n",
    "    elif \"new york\" in location.lower():\n",
    "        return \"Sunny and warm, 25°C.\"\n",
    "    else:\n",
    "        return f\"Weather data for {location} is not available.\"\n",
    "get_current_weather.invoke(\"London\")"
   ]
  },
  {
   "cell_type": "markdown",
   "id": "5c8e5913",
   "metadata": {},
   "source": [
    "### BaseTool class for building async tools<br> _run(), _arun() methods,"
   ]
  },
  {
   "cell_type": "code",
   "execution_count": 21,
   "id": "fc050646",
   "metadata": {},
   "outputs": [
    {
     "data": {
      "text/plain": [
       "'15.0'"
      ]
     },
     "execution_count": 21,
     "metadata": {},
     "output_type": "execute_result"
    }
   ],
   "source": [
    "from langchain_core.tools import BaseTool\n",
    "\n",
    "class SimpleClaculator(BaseTool):\n",
    "    name: str = 'SimpleCalculator'\n",
    "    description: str = \"Performs basic arithmetic operations. Input format: 'operation number1 number2' (e.g., 'add 5 10'). Supported operations: add, subtract, multiply,\"\n",
    "    def _run(self,query: str) -> str:\n",
    "        \"\"\"Use the calculator to perform a calculation.\"\"\"\n",
    "        parts = query.split()\n",
    "        if len(parts) != 3:\n",
    "            return \"Please provide a valid calculation in the format: 'add 15 10.\"\n",
    "        op, num1,num2 = parts[0], parts[1], parts[2]\n",
    "        \n",
    "        if op== \"add\":\n",
    "            return str(float(num1) + float(num2))\n",
    "        elif op == \"subtract\":\n",
    "            return str(float(num1) - float(num2))\n",
    "        elif op == \"multiply\":\n",
    "            return str(float(num1) * float(num2))\n",
    "    \n",
    "    def _arun(self, query: str) -> str:\n",
    "        \"\"\"Use the calculator to perform a calculation asynchronously.\"\"\"\n",
    "        return self._run(query)\n",
    "    \n",
    "calci= SimpleClaculator()\n",
    "calci.invoke(\"add 5 10\")"
   ]
  },
  {
   "cell_type": "markdown",
   "id": "25c5d6d6",
   "metadata": {},
   "source": [
    "### ReAct Agents<br> Resoning+Acting:-> Thought, Action, Observation\n",
    "create_react_agent()"
   ]
  },
  {
   "cell_type": "code",
   "execution_count": null,
   "id": "da1ed1f5",
   "metadata": {},
   "outputs": [
    {
     "name": "stdout",
     "output_type": "stream",
     "text": [
      "\n",
      "\n",
      "\u001b[1m> Entering new AgentExecutor chain...\u001b[0m\n",
      "\u001b[32;1m\u001b[1;3mI need to first get the weather in London and then add 5 and 10. I will use the tools accordingly.\n",
      "Action: get_current_weather\n",
      "Action Input: London\u001b[0m\u001b[33;1m\u001b[1;3mIt's cloudy with a chance of rain, 15°C.\u001b[0m\u001b[32;1m\u001b[1;3mI now know the weather in London. I still need to add 5 and 10.\n",
      "Action: SimpleCalculator\n",
      "Action Input: add 5 10\u001b[0m\u001b[36;1m\u001b[1;3m15.0\u001b[0m\u001b[32;1m\u001b[1;3mI now have both the weather in London and the sum of 5 and 10.\n",
      "Final Answer: The weather in London is cloudy with a chance of rain, 15°C. The sum of 5 and 10 is 15.0.\u001b[0m\n",
      "\n",
      "\u001b[1m> Finished chain.\u001b[0m\n",
      "The weather in London is cloudy with a chance of rain, 15°C. The sum of 5 and 10 is 15.0.\n"
     ]
    }
   ],
   "source": [
    "from dotenv import load_dotenv\n",
    "import os\n",
    "from langchain_google_genai import ChatGoogleGenerativeAI\n",
    "from langchain_core.prompts import ChatPromptTemplate, MessagesPlaceholder\n",
    "from langchain_core.tools import tool\n",
    "from langchain.agents import AgentExecutor, create_react_agent\n",
    "\n",
    "load_dotenv()\n",
    "google_api_key = os.getenv(\"GOOGLE_API_KEY\")\n",
    "chat_model = ChatGoogleGenerativeAI(model=\"gemini-2.0-flash\", google_api_key=google_api_key)\n",
    "\n",
    "tools = [calci, get_current_weather]\n",
    "\n",
    "from langchain_core.prompts import PromptTemplate\n",
    "\n",
    "# Simple string-based prompt template for ReAct\n",
    "template = \"\"\"Answer the following questions as best you can. You have access to the following tools:\n",
    "\n",
    "{tools}\n",
    "\n",
    "Use the following format:\n",
    "\n",
    "Question: the input question you must answer\n",
    "Thought: you should always think about what to do\n",
    "Action: the action to take, should be one of [{tool_names}]\n",
    "Action Input: the input to the action\n",
    "Observation: the result of the action\n",
    "... (this Thought/Action/Action Input/Observation can repeat N times)\n",
    "Thought: I now know the final answer\n",
    "Final Answer: the final answer to the original input question\n",
    "\n",
    "Begin!\n",
    "\n",
    "Question: {input}\n",
    "Thought:{agent_scratchpad}\"\"\"\n",
    "\n",
    "prompt = PromptTemplate.from_template(template)\n",
    "\n",
    "react_agent = create_react_agent(\n",
    "    llm=chat_model,\n",
    "    tools=tools,\n",
    "    prompt=prompt\n",
    ")\n",
    "\n",
    "agent_executor = AgentExecutor( #agent executer is the one who waits for agent to ask for tools and provide it\n",
    "    agent=react_agent,\n",
    "    tools=tools,\n",
    "    verbose=True,\n",
    "    handle_parsing_errors=True\n",
    ")\n",
    "\n",
    "response = agent_executor.invoke({\n",
    "    \"input\": \"What is the weather in London? Also, add 5 and 10.\"\n",
    "})\n",
    "print(response['output'])"
   ]
  },
  {
   "cell_type": "markdown",
   "id": "8056fc4a",
   "metadata": {},
   "source": [
    "# OpenAI function Agents\n",
    "### How it works:\n",
    "<ol>\n",
    "\n",
    "<li>You define your tools (functions) and provide their schemas (name, description, parameters) to the LLM.</li>\n",
    "\n",
    "<li>When you query the LLM, it decides if any of the provided tools are relevant to the user's request.</li>\n",
    "\n",
    "<li>If a tool is relevant, the LLM generates a structured tool_calls message, specifying the tool's name and the arguments to call it with.</li>\n",
    "\n",
    "<li>The Agent Executor then intercepts this tool_calls message, executes the actual Python function corresponding to the tool, and returns the result as an Observation.</li>\n",
    "<li>This Observation is then fed back to the LLM for the next turn of reasoning.</li>"
   ]
  },
  {
   "cell_type": "code",
   "execution_count": null,
   "id": "571e72cc",
   "metadata": {},
   "outputs": [],
   "source": [
    "from langchain.agents import AgentExecutor, create_tool_calling_agent\n",
    "agent_llm= ChatGoogleGenerativeAI(model=\"gemini-2.0-flash\", google_api_key=google_api_key)\n",
    "\n",
    "@tool\n",
    "def get_stock_price(ticker: str) -> float:\n",
    "    \"\"\"Fetches the current stock price for a given company ticker symbol.\n",
    "    Example: 'AAPL' for Apple, 'GOOG' for Google.\n",
    "    Returns the price as a float.\n",
    "    \"\"\"\n",
    "    # This is a dummy implementation. In a real app, you'd call a financial API.\n",
    "    stock_prices = {\"AAPL\": 175.50, \"GOOG\": 150.20, \"MSFT\": 420.00, \"AMZN\": 180.10}\n",
    "    price = stock_prices.get(ticker.upper())\n",
    "    if price:\n",
    "        return price\n",
    "    else:\n",
    "        return f\"Stock price for {ticker.upper()} not found.\"\n",
    "@tool\n",
    "def calculate_compound_interest(principal: float, rate: float, time_years: int) -> float:\n",
    "    \"\"\"Calculates the compound interest.\n",
    "    Args:\n",
    "        principal (float): The initial amount of money.\n",
    "        rate (float): The annual interest rate (as a decimal, e.g., 0.05 for 5%).\n",
    "        time_years (int): The number of years the money is invested or borrowed for.\n",
    "    Returns the final amount after compounding.\n",
    "    \"\"\"\n",
    "    return principal * (1 + rate)**time_years\n",
    "tools_fc=[get_stock_price, calculate_compound_interest]\n",
    "\n",
    "prompt_fc = ChatPromptTemplate.from_messages([\n",
    "    (\"system\", \"You are a helpful financial assistant use provided tools to answer the question.\"),\n",
    "    (\"human\", \"Question: {input}\"),\n",
    "    MessagesPlaceholder(variable_name=\"agent_scratchpad\")\n",
    "])\n",
    "\n",
    "tool_calling_agent = create_tool_calling_agent(\n",
    "    llm=agent_llm,\n",
    "    tools=tools_fc,\n",
    "    prompt=prompt_fc\n",
    ")\n",
    "\n",
    "agent_executor_fc = AgentExecutor(\n",
    "    agent=tool_calling_agent,\n",
    "    tools=tools_fc,\n",
    "    verbose=True, #prints every step for Debugging Agents thoughts\n",
    "    handle_parsing_errors=True\n",
    ")\n"
   ]
  },
  {
   "cell_type": "code",
   "execution_count": 26,
   "id": "4bcc71d0",
   "metadata": {},
   "outputs": [
    {
     "name": "stdout",
     "output_type": "stream",
     "text": [
      "\n",
      "\n",
      "\u001b[1m> Entering new AgentExecutor chain...\u001b[0m\n",
      "\u001b[32;1m\u001b[1;3m\n",
      "Invoking: `get_stock_price` with `{'ticker': 'AAPL'}`\n",
      "\n",
      "\n",
      "\u001b[0m\u001b[36;1m\u001b[1;3m175.5\u001b[0m\u001b[32;1m\u001b[1;3m\n",
      "Invoking: `calculate_compound_interest` with `{'rate': 0.05, 'principal': 1000.0, 'time_years': 10.0}`\n",
      "\n",
      "\n",
      "\u001b[0m\u001b[33;1m\u001b[1;3m1628.894626777442\u001b[0m\u001b[32;1m\u001b[1;3mThe current stock price of Apple is $175.5. The compound interest for a principal of 1000 at a rate of 5% for 10 years is $1628.89.\u001b[0m\n",
      "\n",
      "\u001b[1m> Finished chain.\u001b[0m\n",
      "The current stock price of Apple is $175.5. The compound interest for a principal of 1000 at a rate of 5% for 10 years is $1628.89.\n",
      "\n",
      "\n",
      "\u001b[1m> Entering new AgentExecutor chain...\u001b[0m\n",
      "\u001b[32;1m\u001b[1;3m\n",
      "Invoking: `get_stock_price` with `{'ticker': 'MSFT'}`\n",
      "\n",
      "\n",
      "\u001b[0m\u001b[36;1m\u001b[1;3m420.0\u001b[0m\u001b[32;1m\u001b[1;3m\n",
      "Invoking: `calculate_compound_interest` with `{'time_years': 5.0, 'principal': 2000.0, 'rate': 0.03}`\n",
      "\n",
      "\n",
      "\u001b[0m\u001b[33;1m\u001b[1;3m2318.5481486000003\u001b[0m\u001b[32;1m\u001b[1;3mThe current stock price of Microsoft is $420. The compound interest for a principal of 2000 at a rate of 3% for 5 years is $2318.55.\u001b[0m\n",
      "\n",
      "\u001b[1m> Finished chain.\u001b[0m\n",
      "The current stock price of Microsoft is $420. The compound interest for a principal of 2000 at a rate of 3% for 5 years is $2318.55.\n"
     ]
    }
   ],
   "source": [
    "\n",
    "response_1= agent_executor_fc.invoke({\n",
    "    \"input\": \"What is the current stock price of apple? Also, calculate the compound interest for a principal of 1000 at a rate of 5% for 10 years.\"\n",
    "})\n",
    "print(response_1['output'])\n",
    "\n",
    "response_2 = agent_executor_fc.invoke({\n",
    "    \"input\": \"What is the current stock price of Microsoft? Also, calculate the compound interest for a principal of 2000 at a rate of 3% for 5 years.\"\n",
    "})\n",
    "print(response_2['output'])"
   ]
  },
  {
   "cell_type": "markdown",
   "id": "f35bcd48",
   "metadata": {},
   "source": [
    "### Agent Memory with *RunnableWithMessageHistory()* for AgentExecuter\n",
    "Wrapping the Agentexecutor inside the RunnableWithMessageHistory"
   ]
  },
  {
   "cell_type": "code",
   "execution_count": 38,
   "id": "e06bc72e",
   "metadata": {},
   "outputs": [
    {
     "name": "stdout",
     "output_type": "stream",
     "text": [
      "\n",
      "\n",
      "\u001b[1m> Entering new AgentExecutor chain...\u001b[0m\n",
      "\u001b[32;1m\u001b[1;3m\n",
      "Invoking: `get_stock_price` with `{'ticker': 'AAPL'}`\n",
      "\n",
      "\n",
      "\u001b[0m\u001b[36;1m\u001b[1;3m175.5\u001b[0m\u001b[32;1m\u001b[1;3m\n",
      "Invoking: `calculate_compound_interest` with `{'principal': 1000.0, 'rate': 0.05, 'time_years': 10.0}`\n",
      "\n",
      "\n",
      "\u001b[0m\u001b[33;1m\u001b[1;3m1628.894626777442\u001b[0m\u001b[32;1m\u001b[1;3mHi Alex, the current stock price of Apple is $175.5. The compound interest for a principal of 1000 at a rate of 5% for 10 years is $1628.89.\u001b[0m\n",
      "\n",
      "\u001b[1m> Finished chain.\u001b[0m\n",
      "Hi Alex, the current stock price of Apple is $175.5. The compound interest for a principal of 1000 at a rate of 5% for 10 years is $1628.89.\n",
      "\n",
      "\n",
      "\u001b[1m> Entering new AgentExecutor chain...\u001b[0m\n",
      "\u001b[32;1m\u001b[1;3mYour name is Alex.\u001b[0m\n",
      "\n",
      "\u001b[1m> Finished chain.\u001b[0m\n",
      "Your name is Alex.\n"
     ]
    }
   ],
   "source": [
    "from langchain_core.runnables.history import RunnableWithMessageHistory\n",
    "from langchain_community.chat_message_histories.in_memory import ChatMessageHistory\n",
    "chat_memory_agent=ChatGoogleGenerativeAI(model=\"gemini-2.0-flash\", google_api_key=google_api_key)\n",
    "\n",
    "prompt_memory=ChatPromptTemplate.from_messages([\n",
    "    (\"system\", \"You are a helpful financial assistant use provided tools to answer the question.\"),\n",
    "    MessagesPlaceholder(variable_name=\"chat_history\"),\n",
    "    (\"human\", \"Question: {input}\"),\n",
    "    MessagesPlaceholder(variable_name=\"agent_scratchpad\")\n",
    "])\n",
    "tool_call_mem_agent = create_tool_calling_agent(\n",
    "    llm=chat_memory_agent,\n",
    "    tools=tools_fc,\n",
    "    prompt=prompt_memory\n",
    ")\n",
    "agent_exec_with_mem=AgentExecutor(\n",
    "    agent=tool_call_mem_agent,\n",
    "    tools=tools_fc,\n",
    "    verbose=True,\n",
    "    handle_parsing_errors=True\n",
    ")\n",
    "store_mem = {}\n",
    "def get_memory(session_id: str)->ChatMessageHistory:\n",
    "    \"\"\"Function to retrieve chat history for a given session.\"\"\"\n",
    "    if session_id not in store_mem:\n",
    "        store_mem[session_id] = ChatMessageHistory()\n",
    "    return store_mem[session_id]\n",
    "\n",
    "    \n",
    "\n",
    "agent_with_mem=RunnableWithMessageHistory(\n",
    "    runnable=agent_exec_with_mem,\n",
    "    get_session_history=get_memory,\n",
    "    input_messages_key=\"input\",\n",
    "    history_messages_key=\"chat_history\",\n",
    ")\n",
    "\n",
    "session_id=\"123\"\n",
    "prompt1=\"hi my name is alex, what is the current stock price of apple? Also, calculate the compound interest for a principal of 1000 at a rate of 5% for 10 years.\"\n",
    "response_1= agent_with_mem.invoke(\n",
    "    {\"input\": prompt1},\n",
    "    config={\"configurable\":{\"session_id\": session_id}}\n",
    ")\n",
    "print(response_1['output'])\n",
    "\n",
    "response_2= agent_with_mem.invoke(\n",
    "    {\"input\": \"what was my name again?\"},\n",
    "    config={\"configurable\":{\"session_id\": session_id}}\n",
    ")\n",
    "print(response_2['output'])"
   ]
  },
  {
   "cell_type": "markdown",
   "id": "0937a1ce",
   "metadata": {},
   "source": [
    "## Human in a loop"
   ]
  },
  {
   "cell_type": "code",
   "execution_count": 41,
   "id": "f6c7a4c4",
   "metadata": {},
   "outputs": [
    {
     "name": "stdout",
     "output_type": "stream",
     "text": [
      "\n",
      "\n",
      "\u001b[1m> Entering new AgentExecutor chain...\u001b[0m\n",
      "\u001b[32;1m\u001b[1;3m\n",
      "Invoking: `get_human_approval` with `{'action': 'get the apple stock price'}`\n",
      "\n",
      "\n",
      "\u001b[0mAction requested: get the apple stock price\n",
      "\u001b[38;5;200m\u001b[1;3mapproved\u001b[0m\u001b[32;1m\u001b[1;3m\n",
      "Invoking: `get_stock_price` with `{'ticker': 'AAPL'}`\n",
      "\n",
      "\n",
      "\u001b[0m\u001b[36;1m\u001b[1;3m175.5\u001b[0m\u001b[32;1m\u001b[1;3mThe current stock price for Apple (AAPL) is $175.5.\u001b[0m\n",
      "\n",
      "\u001b[1m> Finished chain.\u001b[0m\n",
      "The current stock price for Apple (AAPL) is $175.5.\n"
     ]
    }
   ],
   "source": [
    "@tool\n",
    "def get_human_approval(action:str)->str:\n",
    "    \"\"\"Get approval from a human for senstive action.\"\"\"\n",
    "    print(f\"Action requested: {action}\")\n",
    "    return \"approved\" if input(\"Do you approve this action? (yes/no): \").strip().lower()==\"yes\" else \"Denied\"\n",
    "\n",
    "tools_with_human_approval = tools_fc + [get_human_approval]\n",
    "prompt_with_human_approval = ChatPromptTemplate.from_messages([\n",
    "    (\"system\", \"You are a helpful  assistant use provided tools to answer the question and perform actions, checking stock rpice is a sensitive action that requires human approval.\"),\n",
    "    (\"human\", \"Question: {input}\"),\n",
    "    MessagesPlaceholder(variable_name=\"agent_scratchpad\")\n",
    "])\n",
    "\n",
    "huma_loop_agent = create_tool_calling_agent(\n",
    "    llm=chat_memory_agent,\n",
    "    tools=tools_with_human_approval,\n",
    "    prompt=prompt_with_human_approval\n",
    ")\n",
    "agent_exec_with_human_approval = AgentExecutor(\n",
    "    agent=huma_loop_agent,\n",
    "    tools=tools_with_human_approval,\n",
    "    verbose=True,\n",
    "    handle_parsing_errors=True\n",
    ")\n",
    "\n",
    "response=agent_exec_with_human_approval.invoke({\n",
    "    \"input\": \"get me the apple stock price\"\n",
    "})\n",
    "print(response['output'])"
   ]
  },
  {
   "cell_type": "code",
   "execution_count": null,
   "id": "c202991b",
   "metadata": {},
   "outputs": [],
   "source": []
  }
 ],
 "metadata": {
  "kernelspec": {
   "display_name": "venv",
   "language": "python",
   "name": "python3"
  },
  "language_info": {
   "codemirror_mode": {
    "name": "ipython",
    "version": 3
   },
   "file_extension": ".py",
   "mimetype": "text/x-python",
   "name": "python",
   "nbconvert_exporter": "python",
   "pygments_lexer": "ipython3",
   "version": "3.12.3"
  }
 },
 "nbformat": 4,
 "nbformat_minor": 5
}

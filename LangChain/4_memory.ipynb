{
 "cells": [
  {
   "cell_type": "markdown",
   "id": "db546c85",
   "metadata": {},
   "source": [
    "### **ChatMessageHistory** is the most fundamental memory class. It's a simple wrapper around a list of messages. It doesn't perform any summarization or windowing"
   ]
  },
  {
   "cell_type": "code",
   "execution_count": 24,
   "id": "d8cc447c",
   "metadata": {},
   "outputs": [],
   "source": [
    "from langchain_core.messages import AIMessage, HumanMessage\n",
    "from langchain_google_genai import ChatGoogleGenerativeAI\n",
    "import os\n",
    "from dotenv import load_dotenv\n",
    "load_dotenv()  \n",
    "google_api_key = os.getenv(\"GOOGLE_API_KEY\")\n",
    "llm= ChatGoogleGenerativeAI(model=\"gemini-2.0-flash\", google_api_key=google_api_key)"
   ]
  },
  {
   "cell_type": "markdown",
   "id": "0ca4796d",
   "metadata": {},
   "source": [
    "### ChatMessageHistory()"
   ]
  },
  {
   "cell_type": "code",
   "execution_count": 16,
   "id": "910056e0",
   "metadata": {},
   "outputs": [
    {
     "name": "stdout",
     "output_type": "stream",
     "text": [
      "[HumanMessage(content='What is the capital of France?', additional_kwargs={}, response_metadata={}), AIMessage(content='The capital of France is Paris.', additional_kwargs={}, response_metadata={})]\n",
      "[HumanMessage(content='What is the capital of Germany?', additional_kwargs={}, response_metadata={}), AIMessage(content='The capital of Germany is Berlin.', additional_kwargs={}, response_metadata={})]\n"
     ]
    }
   ],
   "source": [
    "from langchain_community.chat_message_histories.in_memory import ChatMessageHistory\n",
    "history=ChatMessageHistory()\n",
    "\n",
    "history.add_user_message(\"What is the capital of France?\")\n",
    "history.add_ai_message(\"The capital of France is Paris.\")\n",
    "print(history.messages)\n",
    "\n",
    "history.add_user_message(\"What is the capital of Germany?\")\n",
    "history.add_ai_message(\"The capital of Germany is Berlin.\")\n",
    "print(history.messages[2:])"
   ]
  },
  {
   "cell_type": "markdown",
   "id": "6b52a52a",
   "metadata": {},
   "source": [
    "### ConversationBufferMemory()"
   ]
  },
  {
   "cell_type": "code",
   "execution_count": 27,
   "id": "96f6126b",
   "metadata": {},
   "outputs": [
    {
     "name": "stdout",
     "output_type": "stream",
     "text": [
      "content='The capital of France is Paris.' additional_kwargs={} response_metadata={'prompt_feedback': {'block_reason': 0, 'safety_ratings': []}, 'finish_reason': 'STOP', 'model_name': 'gemini-2.0-flash', 'safety_ratings': []} id='run--a15590ad-933e-45b9-b9d5-9cf328160140-0' usage_metadata={'input_tokens': 16, 'output_tokens': 8, 'total_tokens': 24, 'input_token_details': {'cache_read': 0}}\n",
      "content='The previous question was: \"What is the capital of France?\"' additional_kwargs={} response_metadata={'prompt_feedback': {'block_reason': 0, 'safety_ratings': []}, 'finish_reason': 'STOP', 'model_name': 'gemini-2.0-flash', 'safety_ratings': []} id='run--2ddd84b4-5f27-4f77-9fca-a26d4820a117-0' usage_metadata={'input_tokens': 29, 'output_tokens': 14, 'total_tokens': 43, 'input_token_details': {'cache_read': 0}}\n"
     ]
    }
   ],
   "source": [
    "from langchain.memory import ConversationBufferMemory\n",
    "from langchain_core.prompts import MessagesPlaceholder, ChatPromptTemplate\n",
    "from langchain_core.runnables import RunnablePassthrough\n",
    "memory = ConversationBufferMemory(return_messages=True)\n",
    "\n",
    "prompt= ChatPromptTemplate.from_messages(\n",
    "    [\n",
    "        (\"system\", \"You are a helpful assistant who remembers conversations.\"),\n",
    "        MessagesPlaceholder(variable_name=\"history\"),\n",
    "        (\"human\", \"{input}\"),\n",
    "    ]\n",
    ")\n",
    "\n",
    "chain=(\n",
    "    RunnablePassthrough.assign(        \n",
    "        history=lambda x: memory.load_memory_variables({})[\"history\"]\n",
    "    )\n",
    "    | prompt\n",
    "    | llm\n",
    ")\n",
    "response=chain.invoke({\"input\": \"What is the capital of France?\"})\n",
    "print(response)\n",
    "memory.save_context(\n",
    "    {\"input\": \"What is the capital of France?\"},\n",
    "    {\"output\": response.content}\n",
    ")\n",
    "print(chain.invoke({\"input\": \"What is the previous question?\"}))"
   ]
  },
  {
   "cell_type": "markdown",
   "id": "7c870306",
   "metadata": {},
   "source": [
    "### ConversationBufferWindowMemory():-> window memory <br> \n",
    "memory_window = ConversationBufferWindowMemory(k=2, return_messages=True)\n"
   ]
  },
  {
   "cell_type": "markdown",
   "id": "74b9998a",
   "metadata": {},
   "source": [
    "### ConversationalSummaryMemory() periodic summarization <br>\n",
    "ConversationalSummaryMemory(llm=llm,return_messages=True)"
   ]
  },
  {
   "cell_type": "markdown",
   "id": "6d341b53",
   "metadata": {},
   "source": [
    "### ConversationalKGMemeory() Knowledge Graph Memory\n",
    "Benefit: Can handle very long conversations efficiently by only providing relevant facts, not the entire history.<br>\n",
    "Complexity: Requires an LLM for graph extraction and potentially a graph database for persistence."
   ]
  },
  {
   "cell_type": "code",
   "execution_count": null,
   "id": "f99d7871",
   "metadata": {},
   "outputs": [],
   "source": []
  }
 ],
 "metadata": {
  "kernelspec": {
   "display_name": "venv",
   "language": "python",
   "name": "python3"
  },
  "language_info": {
   "codemirror_mode": {
    "name": "ipython",
    "version": 3
   },
   "file_extension": ".py",
   "mimetype": "text/x-python",
   "name": "python",
   "nbconvert_exporter": "python",
   "pygments_lexer": "ipython3",
   "version": "3.12.3"
  }
 },
 "nbformat": 4,
 "nbformat_minor": 5
}

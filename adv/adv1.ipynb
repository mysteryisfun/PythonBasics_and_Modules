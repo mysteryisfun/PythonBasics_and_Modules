{
 "cells": [
  {
   "cell_type": "markdown",
   "id": "92b7addb",
   "metadata": {},
   "source": [
    "IterTools\n",
    "Memory efficient way to iterate through multiple objects without concatination of objects"
   ]
  },
  {
   "cell_type": "code",
   "execution_count": 1,
   "id": "31a7993b",
   "metadata": {},
   "outputs": [
    {
     "name": "stdout",
     "output_type": "stream",
     "text": [
      "1\n",
      "2\n",
      "3\n",
      "4\n",
      "5\n",
      "6\n",
      "7\n",
      "8\n"
     ]
    }
   ],
   "source": [
    "import itertools\n",
    "a=[1,2,3,4]\n",
    "b = [5,6,7,8]\n",
    "\n",
    "for iter in itertools.chain(a,b):\n",
    "    print(iter)"
   ]
  },
  {
   "cell_type": "code",
   "execution_count": null,
   "id": "fb666d62",
   "metadata": {},
   "outputs": [],
   "source": []
  }
 ],
 "metadata": {
  "kernelspec": {
   "display_name": "base",
   "language": "python",
   "name": "python3"
  },
  "language_info": {
   "codemirror_mode": {
    "name": "ipython",
    "version": 3
   },
   "file_extension": ".py",
   "mimetype": "text/x-python",
   "name": "python",
   "nbconvert_exporter": "python",
   "pygments_lexer": "ipython3",
   "version": "3.12.3"
  }
 },
 "nbformat": 4,
 "nbformat_minor": 5
}

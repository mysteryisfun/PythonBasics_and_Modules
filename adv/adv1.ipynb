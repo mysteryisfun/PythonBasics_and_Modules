{
 "cells": [
  {
   "cell_type": "markdown",
   "id": "92b7addb",
   "metadata": {},
   "source": [
    "IterTools\n",
    "Memory efficient way to iterate through multiple objects without concatination of objects"
   ]
  },
  {
   "cell_type": "code",
   "execution_count": 1,
   "id": "31a7993b",
   "metadata": {},
   "outputs": [
    {
     "name": "stdout",
     "output_type": "stream",
     "text": [
      "1\n",
      "2\n",
      "3\n",
      "4\n",
      "5\n",
      "6\n",
      "7\n",
      "8\n"
     ]
    }
   ],
   "source": [
    "import itertools\n",
    "a=[1,2,3,4]\n",
    "b = [5,6,7,8]\n",
    "\n",
    "for iter in itertools.chain(a,b):\n",
    "    print(iter)"
   ]
  },
  {
   "cell_type": "code",
   "execution_count": null,
   "id": "fb666d62",
   "metadata": {},
   "outputs": [
    {
     "name": "stdout",
     "output_type": "stream",
     "text": [
      "2\n",
      "4\n",
      "6\n"
     ]
    }
   ],
   "source": [
    "list = [i for i in range (10)]\n",
    "iter = itertools.islice(list, 2, 8, 2)\n",
    "for i in iter:\n",
    "    print(i)\n",
    "#slice without loading entire list in memory"
   ]
  },
  {
   "cell_type": "markdown",
   "id": "594a41ac",
   "metadata": {},
   "source": [
    "By using itertools, you start thinking about data as a stream to be processed rather than a collection to be stored"
   ]
  },
  {
   "cell_type": "markdown",
   "id": "1a7f9f2f",
   "metadata": {},
   "source": [
    "## Collection\n"
   ]
  },
  {
   "cell_type": "code",
   "execution_count": 4,
   "id": "506c7d84",
   "metadata": {},
   "outputs": [
    {
     "name": "stdout",
     "output_type": "stream",
     "text": [
      "[('the', 2), ('I', 1)]\n",
      "2\n",
      "0\n"
     ]
    }
   ],
   "source": [
    "from collections import Counter\n",
    "words = \"I wanna be in the top most of the world\".split(\" \")\n",
    "\n",
    "word_counter = Counter(words)\n",
    "\n",
    "print(word_counter.most_common(2))\n",
    "print(word_counter['the'])\n",
    "print(word_counter['cat'])"
   ]
  },
  {
   "cell_type": "markdown",
   "id": "68e724b3",
   "metadata": {},
   "source": [
    "List have a problem of O(n) for adding and popping up elements"
   ]
  },
  {
   "cell_type": "code",
   "execution_count": 5,
   "id": "5c1fe9b1",
   "metadata": {},
   "outputs": [
    {
     "name": "stdout",
     "output_type": "stream",
     "text": [
      "deque([1, 2, 3, 4, 5, 6])\n",
      "deque([0, 1, 2, 3, 4, 5, 6])\n",
      "deque([0, 1, 2, 3, 4, 5])\n",
      "deque([1, 2, 3, 4, 5])\n"
     ]
    }
   ],
   "source": [
    "from collections import deque\n",
    "\n",
    "d = deque([1,2,3,4,5])\n",
    "d.append(6)\n",
    "print(d)\n",
    "d.appendleft(0)\n",
    "print(d)\n",
    "d.pop()\n",
    "print(d)\n",
    "d.popleft()\n",
    "print(d)"
   ]
  },
  {
   "cell_type": "code",
   "execution_count": 6,
   "id": "c1b4cff7",
   "metadata": {},
   "outputs": [
    {
     "name": "stdout",
     "output_type": "stream",
     "text": [
      "10 20\n"
     ]
    }
   ],
   "source": [
    "from collections import namedtuple\n",
    "\n",
    "Point = namedtuple('Point', ['x', 'y'])\n",
    "p = Point(10, 20)\n",
    "print(p.x, p.y)"
   ]
  },
  {
   "cell_type": "markdown",
   "id": "c5751371",
   "metadata": {},
   "source": [
    "Using with to lock the resource\n",
    "## Context manager\n",
    "In simple terms, a context manager is an object that automates the process of setting up and tearing down a resource."
   ]
  },
  {
   "cell_type": "code",
   "execution_count": 11,
   "id": "ab1f6843",
   "metadata": {},
   "outputs": [],
   "source": [
    "from contextlib import contextmanager\n",
    "import time\n",
    "@contextmanager\n",
    "def timed_method():\n",
    "    start_time=time.perf_counter()#part that executes before calling\n",
    "    yield\n",
    "    end_time=time.perf_counter()#part that executes after calling\n",
    "    print(\"total time\", end_time-start_time)"
   ]
  },
  {
   "cell_type": "code",
   "execution_count": 12,
   "id": "e30e2ba8",
   "metadata": {},
   "outputs": [
    {
     "name": "stdout",
     "output_type": "stream",
     "text": [
      "6\n"
     ]
    }
   ],
   "source": [
    "@timed_method()\n",
    "def counter():\n",
    "    for i in range(10000):\n",
    "        count=i\n",
    "print(i)"
   ]
  }
 ],
 "metadata": {
  "kernelspec": {
   "display_name": "base",
   "language": "python",
   "name": "python3"
  },
  "language_info": {
   "codemirror_mode": {
    "name": "ipython",
    "version": 3
   },
   "file_extension": ".py",
   "mimetype": "text/x-python",
   "name": "python",
   "nbconvert_exporter": "python",
   "pygments_lexer": "ipython3",
   "version": "3.12.3"
  }
 },
 "nbformat": 4,
 "nbformat_minor": 5
}

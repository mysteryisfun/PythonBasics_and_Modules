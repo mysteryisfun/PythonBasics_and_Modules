{
 "cells": [
  {
   "cell_type": "markdown",
   "id": "e89f596a",
   "metadata": {},
   "source": [
    "Metaprogramming is, in essence, the art of writing code that operates on other code. Instead of just writing functions and classes to process data, you'll be writing them to analyze, modify, or even generate other functions and classes."
   ]
  },
  {
   "cell_type": "markdown",
   "id": "e251a44d",
   "metadata": {},
   "source": [
    "## Generators\n",
    "uses yield</br>\n",
    "type of iterators that work on call</br>\n",
    "## yield the values only when called"
   ]
  },
  {
   "cell_type": "code",
   "execution_count": null,
   "id": "777a0ce4",
   "metadata": {},
   "outputs": [
    {
     "name": "stdout",
     "output_type": "stream",
     "text": [
      "producing 0\n",
      "producing 1\n",
      "producing 2\n"
     ]
    },
    {
     "data": {
      "text/plain": [
       "2"
      ]
     },
     "execution_count": 3,
     "metadata": {},
     "output_type": "execute_result"
    }
   ],
   "source": [
    "def number_generator(num):\n",
    "    for i in range(num):\n",
    "        print(f\"producing {i}\")\n",
    "        yield i\n",
    "\n",
    "generator = number_generator(3)\n",
    "\n",
    "next(generator)\n",
    "next(generator)\n",
    "next(generator)\n",
    "\n"
   ]
  },
  {
   "cell_type": "markdown",
   "id": "cee48b13",
   "metadata": {},
   "source": [
    "### Yield can also recieve the value from external entity"
   ]
  },
  {
   "cell_type": "code",
   "execution_count": 11,
   "id": "a96fdd76",
   "metadata": {},
   "outputs": [
    {
     "name": "stdout",
     "output_type": "stream",
     "text": [
      "Bob\n",
      "Alice\n",
      "closing\n",
      "closed\n"
     ]
    }
   ],
   "source": [
    "def greeter():\n",
    "    while True:\n",
    "        \n",
    "        name = yield\n",
    "        if name == \"none\":\n",
    "            print(\"closing\")\n",
    "            return \n",
    "        print(name)\n",
    "    \n",
    "greet=greeter()\n",
    "next(greet)\n",
    "greet.send(\"Bob\")\n",
    "greet.send(\"Alice\")\n",
    "try:\n",
    "    greet.send(\"none\")\n",
    "except StopIteration as e:\n",
    "    print(\"closed\")\n"
   ]
  },
  {
   "cell_type": "markdown",
   "id": "f7270be4",
   "metadata": {},
   "source": [
    "The Big Connection to asyncio:\n",
    "The yield from expression is the direct predecessor to the await keyword. They serve the exact same purpose: to pause the current coroutine and delegate control to another until it completes."
   ]
  },
  {
   "cell_type": "code",
   "execution_count": 16,
   "id": "6f55f8ca",
   "metadata": {},
   "outputs": [
    {
     "name": "stdout",
     "output_type": "stream",
     "text": [
      "main funct\n",
      "main called sub\n",
      "sub gave name duh\n",
      "stopped\n"
     ]
    }
   ],
   "source": [
    "def sub():\n",
    "    print(\"main called sub\")\n",
    "    name = yield\n",
    "    return f\"sub gave name {name}\"\n",
    "\n",
    "def main_f():\n",
    "    print(\"main funct\")\n",
    "    result = yield from sub()\n",
    "    print(result)\n",
    "\n",
    "f=main_f()\n",
    "next(f)\n",
    "try:\n",
    "    f.send(\"duh\")\n",
    "except StopIteration as e:\n",
    "    print(\"stopped\")"
   ]
  },
  {
   "cell_type": "code",
   "execution_count": null,
   "id": "e36b759e",
   "metadata": {},
   "outputs": [],
   "source": []
  }
 ],
 "metadata": {
  "kernelspec": {
   "display_name": "base",
   "language": "python",
   "name": "python3"
  },
  "language_info": {
   "codemirror_mode": {
    "name": "ipython",
    "version": 3
   },
   "file_extension": ".py",
   "mimetype": "text/x-python",
   "name": "python",
   "nbconvert_exporter": "python",
   "pygments_lexer": "ipython3",
   "version": "3.12.3"
  }
 },
 "nbformat": 4,
 "nbformat_minor": 5
}

{
 "cells": [
  {
   "cell_type": "code",
   "execution_count": 1,
   "id": "ca0aba2b",
   "metadata": {},
   "outputs": [
    {
     "name": "stdout",
     "output_type": "stream",
     "text": [
      "division by zero\n",
      "completed\n"
     ]
    }
   ],
   "source": [
    "def process():\n",
    "    try:\n",
    "        d= 1/0\n",
    "    except (ValueError) as e:\n",
    "        print(e)\n",
    "    except ZeroDivisionError as e:\n",
    "        print(e)\n",
    "    finally:\n",
    "        print(\"completed\")\n",
    "process()"
   ]
  },
  {
   "cell_type": "code",
   "execution_count": 6,
   "id": "256eaa23",
   "metadata": {},
   "outputs": [
    {
     "name": "stdout",
     "output_type": "stream",
     "text": [
      "Service online error: Service not online\n"
     ]
    }
   ],
   "source": [
    "class notOnline(Exception):  \n",
    "    pass\n",
    "\n",
    "def checkOnline():\n",
    "    return False  \n",
    "\n",
    "def callservice():\n",
    "    if not checkOnline():\n",
    "        raise notOnline(\"Service not online\")  \n",
    "try:\n",
    "    callservice()\n",
    "except notOnline as e:\n",
    "    print(\"Service online error:\", e)"
   ]
  },
  {
   "cell_type": "code",
   "execution_count": 7,
   "id": "f13b6db0",
   "metadata": {},
   "outputs": [
    {
     "name": "stdout",
     "output_type": "stream",
     "text": [
      "A 2D vector located at (3, 4)\n",
      "A 2D vector located at (3, 4)\n",
      "Vector(x=3, y=4)\n",
      "The vector is: Vector(x=3, y=4)\n"
     ]
    }
   ],
   "source": [
    "class Vector:\n",
    "    def __init__(self, x, y):\n",
    "        self.x = x\n",
    "        self.y = y\n",
    "\n",
    "    def __str__(self):\n",
    "        # User-friendly output\n",
    "        return f\"A 2D vector located at ({self.x}, {self.y})\"\n",
    "\n",
    "    def __repr__(self):\n",
    "        # Developer-focused, unambiguous output\n",
    "        # Note: This string looks like the code to create the object\n",
    "        return f\"Vector(x={self.x}, y={self.y})\"\n",
    "\n",
    "# Let's see them in action\n",
    "v = Vector(3, 4)\n",
    "\n",
    "print(v)          # Calls __str__\n",
    "print(str(v))       # Calls __str__\n",
    "print(repr(v))      # Calls __repr__\n",
    "print(f\"The vector is: {v!r}\") # !r in an f-string explicitly calls __repr__\n",
    "\n",
    "# In an interactive console, just typing 'v' would call __repr__"
   ]
  },
  {
   "cell_type": "code",
   "execution_count": 15,
   "id": "bf5eaa38",
   "metadata": {},
   "outputs": [
    {
     "name": "stdout",
     "output_type": "stream",
     "text": [
      "4\n"
     ]
    }
   ],
   "source": [
    "class polygon:\n",
    "    def __init__(self, *vertices):\n",
    "        self.vertices = vertices \n",
    "\n",
    "    def __len__(self):\n",
    "        return len(self.vertices) \n",
    "\n",
    "sq = polygon((1, 2), (2, 2), (2, 3), (3, 1)) \n",
    "print(len(sq))"
   ]
  },
  {
   "cell_type": "markdown",
   "id": "8fa9c9f6",
   "metadata": {},
   "source": [
    "__call__ method"
   ]
  },
  {
   "cell_type": "code",
   "execution_count": 4,
   "id": "7e2f0500",
   "metadata": {},
   "outputs": [
    {
     "name": "stdout",
     "output_type": "stream",
     "text": [
      "call counter 1\n",
      "2\n",
      "call counter 2\n",
      "3\n"
     ]
    }
   ],
   "source": [
    "class timer:\n",
    "    def __init__(self, number):\n",
    "        self.number = number\n",
    "        self.call_count = 0 \n",
    "    def __call__(self,number):\n",
    "        self.call_count +=1\n",
    "        self.number = number\n",
    "        print(f\"call counter {self.call_count}\")\n",
    "        return number\n",
    "\n",
    "t = timer(1)\n",
    "print(t(2))\n",
    "print(t(3))\n"
   ]
  },
  {
   "cell_type": "code",
   "execution_count": null,
   "id": "9891564b",
   "metadata": {},
   "outputs": [],
   "source": []
  }
 ],
 "metadata": {
  "kernelspec": {
   "display_name": "base",
   "language": "python",
   "name": "python3"
  },
  "language_info": {
   "codemirror_mode": {
    "name": "ipython",
    "version": 3
   },
   "file_extension": ".py",
   "mimetype": "text/x-python",
   "name": "python",
   "nbconvert_exporter": "python",
   "pygments_lexer": "ipython3",
   "version": "3.12.3"
  }
 },
 "nbformat": 4,
 "nbformat_minor": 5
}

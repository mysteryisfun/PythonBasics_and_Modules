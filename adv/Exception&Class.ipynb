{
 "cells": [
  {
   "cell_type": "code",
   "execution_count": 1,
   "id": "ca0aba2b",
   "metadata": {},
   "outputs": [
    {
     "name": "stdout",
     "output_type": "stream",
     "text": [
      "division by zero\n",
      "completed\n"
     ]
    }
   ],
   "source": [
    "def process():\n",
    "    try:\n",
    "        d= 1/0\n",
    "    except (ValueError) as e:\n",
    "        print(e)\n",
    "    except ZeroDivisionError as e:\n",
    "        print(e)\n",
    "    finally:\n",
    "        print(\"completed\")\n",
    "process()"
   ]
  },
  {
   "cell_type": "code",
   "execution_count": 6,
   "id": "256eaa23",
   "metadata": {},
   "outputs": [
    {
     "name": "stdout",
     "output_type": "stream",
     "text": [
      "Service online error: Service not online\n"
     ]
    }
   ],
   "source": [
    "class notOnline(Exception):  \n",
    "    pass\n",
    "\n",
    "def checkOnline():\n",
    "    return False  \n",
    "\n",
    "def callservice():\n",
    "    if not checkOnline():\n",
    "        raise notOnline(\"Service not online\")  \n",
    "try:\n",
    "    callservice()\n",
    "except notOnline as e:\n",
    "    print(\"Service online error:\", e)"
   ]
  },
  {
   "cell_type": "code",
   "execution_count": 7,
   "id": "f13b6db0",
   "metadata": {},
   "outputs": [
    {
     "name": "stdout",
     "output_type": "stream",
     "text": [
      "A 2D vector located at (3, 4)\n",
      "A 2D vector located at (3, 4)\n",
      "Vector(x=3, y=4)\n",
      "The vector is: Vector(x=3, y=4)\n"
     ]
    }
   ],
   "source": [
    "class Vector:\n",
    "    def __init__(self, x, y):\n",
    "        self.x = x\n",
    "        self.y = y\n",
    "\n",
    "    def __str__(self):\n",
    "        # User-friendly output\n",
    "        return f\"A 2D vector located at ({self.x}, {self.y})\"\n",
    "\n",
    "    def __repr__(self):\n",
    "        # Developer-focused, unambiguous output\n",
    "        # Note: This string looks like the code to create the object\n",
    "        return f\"Vector(x={self.x}, y={self.y})\"\n",
    "\n",
    "# Let's see them in action\n",
    "v = Vector(3, 4)\n",
    "\n",
    "print(v)          # Calls __str__\n",
    "print(str(v))       # Calls __str__\n",
    "print(repr(v))      # Calls __repr__\n",
    "print(f\"The vector is: {v!r}\") # !r in an f-string explicitly calls __repr__\n",
    "\n",
    "# In an interactive console, just typing 'v' would call __repr__"
   ]
  },
  {
   "cell_type": "code",
   "execution_count": 15,
   "id": "bf5eaa38",
   "metadata": {},
   "outputs": [
    {
     "name": "stdout",
     "output_type": "stream",
     "text": [
      "4\n"
     ]
    }
   ],
   "source": [
    "class polygon:\n",
    "    def __init__(self, *vertices):\n",
    "        self.vertices = vertices \n",
    "\n",
    "    def __len__(self):\n",
    "        return len(self.vertices) \n",
    "\n",
    "sq = polygon((1, 2), (2, 2), (2, 3), (3, 1)) \n",
    "print(len(sq))"
   ]
  },
  {
   "cell_type": "markdown",
   "id": "8fa9c9f6",
   "metadata": {},
   "source": [
    "__call__ method"
   ]
  },
  {
   "cell_type": "code",
   "execution_count": 4,
   "id": "7e2f0500",
   "metadata": {},
   "outputs": [
    {
     "name": "stdout",
     "output_type": "stream",
     "text": [
      "call counter 1\n",
      "2\n",
      "call counter 2\n",
      "3\n"
     ]
    }
   ],
   "source": [
    "class timer:\n",
    "    def __init__(self, number):\n",
    "        self.number = number\n",
    "        self.call_count = 0 \n",
    "    def __call__(self,number):\n",
    "        self.call_count +=1\n",
    "        self.number = number\n",
    "        print(f\"call counter {self.call_count}\")\n",
    "        return number\n",
    "\n",
    "t = timer(1)\n",
    "print(t(2))\n",
    "print(t(3))\n"
   ]
  },
  {
   "cell_type": "markdown",
   "id": "72c84692",
   "metadata": {},
   "source": [
    "### Advanced getter setter"
   ]
  },
  {
   "cell_type": "code",
   "execution_count": 10,
   "id": "9891564b",
   "metadata": {},
   "outputs": [
    {
     "name": "stdout",
     "output_type": "stream",
     "text": [
      "10\n",
      "Value cannot be < 0\n"
     ]
    }
   ],
   "source": [
    "class Bank:\n",
    "    def __init__(self, number):\n",
    "        self._balance = number\n",
    "\n",
    "    @property\n",
    "    def balance(self):\n",
    "        return self._balance  \n",
    "\n",
    "    @balance.setter\n",
    "    def balance(self, value): \n",
    "        try:\n",
    "            if value < 0:\n",
    "                raise ValueError(\"Value cannot be < 0\")\n",
    "            self._balance = value  \n",
    "        except ValueError as e:\n",
    "            print(e)\n",
    "\n",
    "bank = Bank(10)\n",
    "print(bank.balance)  \n",
    "bank.balance = -1  "
   ]
  },
  {
   "cell_type": "markdown",
   "id": "71feaf0b",
   "metadata": {},
   "source": [
    "Decorators are the fucntions that takes functions as arguements\n",
    "### A decorator should return a wrapper function that takes the same arguments as the decorated function and calls it"
   ]
  },
  {
   "cell_type": "code",
   "execution_count": 20,
   "id": "1397b698",
   "metadata": {},
   "outputs": [
    {
     "name": "stdout",
     "output_type": "stream",
     "text": [
      "999999\n",
      "took0.027086734771728516\n"
     ]
    }
   ],
   "source": [
    "import time\n",
    "def decorator(func):\n",
    "    def wrapper():\n",
    "        start=time.time()\n",
    "        func()\n",
    "        end_time=time.time()\n",
    "        print(f\"took{end_time-start}\")\n",
    "    return wrapper\n",
    "\n",
    "@decorator\n",
    "def function_call():\n",
    "    a=0\n",
    "    for i in range (1000000):\n",
    "        a=i\n",
    "    print(i)\n",
    "\n",
    "function_call()"
   ]
  },
  {
   "cell_type": "markdown",
   "id": "4c700728",
   "metadata": {},
   "source": [
    "## Decorator with Args\n",
    "simply add a decorator inside a function"
   ]
  },
  {
   "cell_type": "code",
   "execution_count": 27,
   "id": "fc4ade9c",
   "metadata": {},
   "outputs": [
    {
     "name": "stdout",
     "output_type": "stream",
     "text": [
      "running greet 4 times\n",
      "nora\n",
      "nora\n",
      "nora\n",
      "nora\n",
      "fininshed\n"
     ]
    }
   ],
   "source": [
    "import functools\n",
    "\n",
    "def repeat(num_times):\n",
    "    def decorator(func):\n",
    "        @functools.wraps(func)\n",
    "        def wrapper(*args, **kwargs):\n",
    "            print(f\"running {func.__name__} {num_times} times\")\n",
    "            last_value= None\n",
    "            for _ in range(num_times):\n",
    "                last_value = func(*args, **kwargs)\n",
    "            print(\"fininshed\")\n",
    "            return last_value\n",
    "        return wrapper\n",
    "    return decorator\n",
    "\n",
    "@repeat(num_times=4)\n",
    "def greet(nam):\n",
    "    print(nam)\n",
    "greet(\"nora\")"
   ]
  },
  {
   "cell_type": "code",
   "execution_count": null,
   "id": "8297bd83",
   "metadata": {},
   "outputs": [],
   "source": []
  }
 ],
 "metadata": {
  "kernelspec": {
   "display_name": "base",
   "language": "python",
   "name": "python3"
  },
  "language_info": {
   "codemirror_mode": {
    "name": "ipython",
    "version": 3
   },
   "file_extension": ".py",
   "mimetype": "text/x-python",
   "name": "python",
   "nbconvert_exporter": "python",
   "pygments_lexer": "ipython3",
   "version": "3.12.3"
  }
 },
 "nbformat": 4,
 "nbformat_minor": 5
}
